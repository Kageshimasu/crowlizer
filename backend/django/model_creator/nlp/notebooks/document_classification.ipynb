{
 "cells": [
  {
   "cell_type": "code",
   "execution_count": 7,
   "metadata": {
    "collapsed": false
   },
   "outputs": [],
   "source": [
    "# -*- coding: utf-8 -*-\n",
    "import json\n",
    "import os\n",
    "import time\n",
    "\n",
    "import matplotlib.pyplot as plt\n",
    "from joblib import Parallel, delayed\n",
    "from sklearn.model_selection import train_test_split\n",
    "from sklearn.feature_extraction.text import CountVectorizer\n",
    "from sklearn.feature_extraction.text import TfidfTransformer\n",
    "from sklearn.ensemble import RandomForestClassifier\n",
    "from sklearn.model_selection import GridSearchCV\n",
    "from sklearn.pipeline import Pipeline\n",
    "from sklearn.metrics import classification_report, accuracy_score\n",
    "\n",
    "from preprocessings.ja.stopwords import get_stop_words\n",
    "DATA_DIR = os.path.join(os.getcwd(), 'data/processed')"
   ]
  },
  {
   "cell_type": "code",
   "execution_count": 8,
   "metadata": {},
   "outputs": [],
   "source": [
    "from preprocessings.ja.cleaning import clean_text\n",
    "from preprocessings.ja.normalization import normalize\n",
    "from preprocessings.ja.tokenizer import MeCabTokenizer\n",
    "\n",
    "tokenizer = MeCabTokenizer()\n",
    "tokenizer_neologd = MeCabTokenizer('/usr/local/lib/mecab/dic/mecab-ipadic-neologd/')\n",
    "def with_preprocess(text):\n",
    "    text = clean_text(text)\n",
    "    words = tokenizer_neologd.wakati_baseform(text)\n",
    "    words = [normalize(word) for word in words]\n",
    "    return words\n",
    "\n",
    "\n",
    "def no_preprocess(text):\n",
    "    words = tokenizer.wakati_baseform(text)\n",
    "    return words\n",
    "\n",
    "\n",
    "def load_data(file_path):\n",
    "    with open(file_path) as f:\n",
    "        items = json.load(f)\n",
    "        \n",
    "    return items\n",
    "\n",
    "\n",
    "def build_pipeline(stopwords):\n",
    "    parameters = {'n_estimators': [10, 30, 50, 70, 90, 110, 130, 150], 'max_features': ['auto', 'sqrt', 'log2', None]}\n",
    "    text_clf = Pipeline([('vect', CountVectorizer(stop_words=stopwords)),\n",
    "                         ('tfidf', TfidfTransformer()),\n",
    "                         ('clf', GridSearchCV(RandomForestClassifier(), parameters, cv=2, scoring='accuracy', n_jobs=-1)),\n",
    "                         ])\n",
    "    return text_clf"
   ]
  },
  {
   "cell_type": "markdown",
   "metadata": {},
   "source": [
    "# No preprocessing"
   ]
  },
  {
   "cell_type": "code",
   "execution_count": 9,
   "metadata": {
    "collapsed": false
   },
   "outputs": [
    {
     "name": "stdout",
     "output_type": "stream",
     "text": [
      "It took 594.5124270915985 seconds.\nAccuracy: 0.8982015609093994\n             precision    recall  f1-score   support\n\n          0       0.80      0.85      0.82       348\n          1       0.94      0.93      0.93       335\n          2       0.94      0.91      0.93       359\n          3       0.98      0.53      0.69       197\n          4       0.88      0.99      0.93       340\n          5       0.79      0.81      0.80       338\n          6       0.99      1.00      0.99       346\n          7       0.88      0.99      0.93       348\n          8       0.97      0.92      0.94       336\n\navg / total       0.90      0.90      0.90      2947\n\n"
     ]
    }
   ],
   "source": [
    "items = load_data(os.path.join(DATA_DIR, 'livedoor.json'))\n",
    "\n",
    "start_time = time.time()  # for measuring running time \n",
    "items['data'] = Parallel(n_jobs=-1)([delayed(no_preprocess)(text) for text in items['data']])\n",
    "items['data'] = [' '.join(doc) for doc in items['data']]\n",
    "X_train, X_test, y_train, y_test = train_test_split(items['data'], items['label'], test_size=0.4)\n",
    "text_clf = build_pipeline(stopwords=set())\n",
    "text_clf = text_clf.fit(X_train, y_train)\n",
    "y_pred = text_clf.predict(X_test)\n",
    "end_time = time.time()\n",
    "\n",
    "# Evaluation\n",
    "running_time1 = end_time - start_time\n",
    "print('It took {} seconds.'.format(running_time1))\n",
    "print('Accuracy: {}'.format(accuracy_score(y_test, y_pred)))\n",
    "print(classification_report(y_test, y_pred))"
   ]
  },
  {
   "cell_type": "markdown",
   "metadata": {},
   "source": [
    "# With preprocessing"
   ]
  },
  {
   "cell_type": "code",
   "execution_count": 10,
   "metadata": {
    "collapsed": false
   },
   "outputs": [
    {
     "name": "stdout",
     "output_type": "stream",
     "text": [
      "70816/81989\n"
     ]
    },
    {
     "name": "stdout",
     "output_type": "stream",
     "text": [
      "It took 328.7750949859619 seconds.\nAccuracy: 0.9165252799457075\n             precision    recall  f1-score   support\n\n          0       0.83      0.91      0.87       329\n          1       0.95      0.96      0.96       342\n          2       0.95      0.93      0.94       377\n          3       0.98      0.59      0.73       181\n          4       0.88      0.98      0.93       348\n          5       0.83      0.81      0.82       334\n          6       0.99      1.00      0.99       355\n          7       0.93      0.98      0.95       360\n          8       0.96      0.93      0.95       321\n\navg / total       0.92      0.92      0.91      2947\n\n"
     ]
    }
   ],
   "source": [
    "items = load_data(os.path.join(DATA_DIR, 'livedoor.json'))\n",
    "\n",
    "start_time = time.time()  # for measuring running time\n",
    "items['data'] = Parallel(n_jobs=-1)([delayed(with_preprocess)(text) for text in items['data']])\n",
    "stopwords = get_stop_words(items['data'], n=100, min_freq=20)\n",
    "items['data'] = [' '.join(doc) for doc in items['data']]\n",
    "X_train, X_test, y_train, y_test = train_test_split(items['data'], items['label'], test_size=0.4)\n",
    "text_clf = build_pipeline(stopwords=stopwords)\n",
    "text_clf = text_clf.fit(X_train, y_train)\n",
    "y_pred = text_clf.predict(X_test)\n",
    "end_time = time.time()\n",
    "\n",
    "# Evaluation\n",
    "running_time2 = end_time - start_time\n",
    "print('It took {} seconds.'.format(running_time2))\n",
    "print('Accuracy: {}'.format(accuracy_score(y_test, y_pred)))\n",
    "print(classification_report(y_test, y_pred))"
   ]
  },
  {
   "cell_type": "markdown",
   "metadata": {},
   "source": [
    "# Running time"
   ]
  },
  {
   "cell_type": "code",
   "execution_count": 11,
   "metadata": {},
   "outputs": [
    {
     "data": {
      "image/png": "[encoded data removed]",
      "text/plain": [
       "<matplotlib.figure.Figure at 0x119b72c88>"
      ]
     },
     "metadata": {},
     "output_type": "display_data"
    }
   ],
   "source": [
    "import matplotlib.pyplot as plt\n",
    "plt.barh([0, 1], [running_time1, running_time2], height=0.4, align=\"center\")\n",
    "plt.yticks([0, 1], [\"No preprocessing\", \"With preprocessing\"])\n",
    "plt.xlabel('Second')\n",
    "plt.show()"
   ]
  },
  {
   "cell_type": "code",
   "execution_count": null,
   "metadata": {},
   "outputs": [],
   "source": [
    ""
   ]
  }
 ],
 "metadata": {
  "kernelspec": {
   "display_name": "Python 2",
   "language": "python",
   "name": "python2"
  },
  "language_info": {
   "codemirror_mode": {
    "name": "ipython",
    "version": 2.0
   },
   "file_extension": ".py",
   "mimetype": "text/x-python",
   "name": "python",
   "nbconvert_exporter": "python",
   "pygments_lexer": "ipython2",
   "version": "2.7.6"
  }
 },
 "nbformat": 4,
 "nbformat_minor": 0
}